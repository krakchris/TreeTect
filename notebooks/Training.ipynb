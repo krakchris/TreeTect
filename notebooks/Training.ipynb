{
 "cells": [
  {
   "cell_type": "markdown",
   "metadata": {},
   "source": [
    "# run deepforest training"
   ]
  },
  {
   "cell_type": "code",
   "execution_count": 1,
   "metadata": {},
   "outputs": [
    {
     "output_type": "stream",
     "name": "stderr",
     "text": "Using TensorFlow backend.\n"
    }
   ],
   "source": [
    "from deepforest import deepforest\n",
    "from deepforest import get_data\n",
    "import tensorflow as tf\n",
    "import datetime"
   ]
  },
  {
   "cell_type": "code",
   "execution_count": 2,
   "metadata": {},
   "outputs": [],
   "source": [
    "import tensorflow as tf\n",
    "config = tf.compat.v1.ConfigProto(gpu_options = \n",
    "                         tf.compat.v1.GPUOptions(per_process_gpu_memory_fraction=0.9)\n",
    "# device_count = {'GPU': 1}\n",
    ")\n",
    "config.gpu_options.allow_growth = True\n",
    "session = tf.compat.v1.Session(config=config)\n",
    "tf.compat.v1.keras.backend.set_session(session)"
   ]
  },
  {
   "cell_type": "code",
   "execution_count": 3,
   "metadata": {},
   "outputs": [],
   "source": [
    "# gpus = tf.config.experimental.list_physical_devices('GPU')\n",
    "# if gpus:\n",
    "#   # Restrict TensorFlow to only allocate 1GB of memory on the first GPU\n",
    "#   try:\n",
    "#     tf.config.experimental.set_virtual_device_configuration(\n",
    "#         gpus[0],\n",
    "#         [tf.config.experimental.VirtualDeviceConfiguration(memory_limit=1024)])\n",
    "#     logical_gpus = tf.config.experimental.list_logical_devices('GPU')\n",
    "#     print(len(gpus), \"Physical GPUs,\", len(logical_gpus), \"Logical GPUs\")\n",
    "#   except RuntimeError as e:\n",
    "#     # Virtual devices must be set before GPUs have been initialized\n",
    "#     print(e)"
   ]
  },
  {
   "cell_type": "code",
   "execution_count": 4,
   "metadata": {},
   "outputs": [],
   "source": [
    "data_type = 'NAIP2018'\n",
    "annotation_type = 'Hand'\n",
    "area = 'Nubian_square'\n",
    "notes = 'Robin'\n",
    "\n",
    "site_name = '{0}_{1}_{2}_{3}'.format(data_type, annotation_type, area, notes)\n",
    "# site_name = 'Amsterdam_training'\n",
    "\n",
    "image_type = \".tif\"\n",
    "\n",
    "score_threshold = 0.3"
   ]
  },
  {
   "cell_type": "code",
   "execution_count": 5,
   "metadata": {},
   "outputs": [
    {
     "output_type": "stream",
     "name": "stdout",
     "text": "Reading config file: /home/daffolap-830/anaconda3/envs/deepforest/lib/python3.6/site-packages/deepforest/data/deepforest_config.yml\nA blank deepforest object created. To perform prediction, either train or load an existing model.\nModel from DeepForest release https://github.com/weecology/DeepForest/releases/tag/v0.2.1 was already downloaded. Loading model from file.\nLoading pre-built model: https://github.com/weecology/DeepForest/releases/tag/v0.2.1\ntracking <tf.Variable 'Variable:0' shape=(9, 4) dtype=float32, numpy=\narray([[-22.627417, -11.313708,  22.627417,  11.313708],\n       [-28.50876 , -14.25438 ,  28.50876 ,  14.25438 ],\n       [-35.918785, -17.959393,  35.918785,  17.959393],\n       [-16.      , -16.      ,  16.      ,  16.      ],\n       [-20.158737, -20.158737,  20.158737,  20.158737],\n       [-25.398417, -25.398417,  25.398417,  25.398417],\n       [-11.313708, -22.627417,  11.313708,  22.627417],\n       [-14.25438 , -28.50876 ,  14.25438 ,  28.50876 ],\n       [-17.959393, -35.918785,  17.959393,  35.918785]], dtype=float32)> anchors\ntracking <tf.Variable 'Variable:0' shape=(9, 4) dtype=float32, numpy=\narray([[-45.254833, -22.627417,  45.254833,  22.627417],\n       [-57.01752 , -28.50876 ,  57.01752 ,  28.50876 ],\n       [-71.83757 , -35.918785,  71.83757 ,  35.918785],\n       [-32.      , -32.      ,  32.      ,  32.      ],\n       [-40.317474, -40.317474,  40.317474,  40.317474],\n       [-50.796833, -50.796833,  50.796833,  50.796833],\n       [-22.627417, -45.254833,  22.627417,  45.254833],\n       [-28.50876 , -57.01752 ,  28.50876 ,  57.01752 ],\n       [-35.918785, -71.83757 ,  35.918785,  71.83757 ]], dtype=float32)> anchors\ntracking <tf.Variable 'Variable:0' shape=(9, 4) dtype=float32, numpy=\narray([[ -90.50967 ,  -45.254833,   90.50967 ,   45.254833],\n       [-114.03504 ,  -57.01752 ,  114.03504 ,   57.01752 ],\n       [-143.67514 ,  -71.83757 ,  143.67514 ,   71.83757 ],\n       [ -64.      ,  -64.      ,   64.      ,   64.      ],\n       [ -80.63495 ,  -80.63495 ,   80.63495 ,   80.63495 ],\n       [-101.593666, -101.593666,  101.593666,  101.593666],\n       [ -45.254833,  -90.50967 ,   45.254833,   90.50967 ],\n       [ -57.01752 , -114.03504 ,   57.01752 ,  114.03504 ],\n       [ -71.83757 , -143.67514 ,   71.83757 ,  143.67514 ]],\n      dtype=float32)> anchors\ntracking <tf.Variable 'Variable:0' shape=(9, 4) dtype=float32, numpy=\narray([[-181.01933,  -90.50967,  181.01933,   90.50967],\n       [-228.07008, -114.03504,  228.07008,  114.03504],\n       [-287.35028, -143.67514,  287.35028,  143.67514],\n       [-128.     , -128.     ,  128.     ,  128.     ],\n       [-161.2699 , -161.2699 ,  161.2699 ,  161.2699 ],\n       [-203.18733, -203.18733,  203.18733,  203.18733],\n       [ -90.50967, -181.01933,   90.50967,  181.01933],\n       [-114.03504, -228.07008,  114.03504,  228.07008],\n       [-143.67514, -287.35028,  143.67514,  287.35028]], dtype=float32)> anchors\ntracking <tf.Variable 'Variable:0' shape=(9, 4) dtype=float32, numpy=\narray([[-362.03867, -181.01933,  362.03867,  181.01933],\n       [-456.14017, -228.07008,  456.14017,  228.07008],\n       [-574.70056, -287.35028,  574.70056,  287.35028],\n       [-256.     , -256.     ,  256.     ,  256.     ],\n       [-322.5398 , -322.5398 ,  322.5398 ,  322.5398 ],\n       [-406.37466, -406.37466,  406.37466,  406.37466],\n       [-181.01933, -362.03867,  181.01933,  362.03867],\n       [-228.07008, -456.14017,  228.07008,  456.14017],\n       [-287.35028, -574.70056,  287.35028,  574.70056]], dtype=float32)> anchors\n"
    }
   ],
   "source": [
    "test_model = deepforest.deepforest()\n",
    "test_model.use_release()"
   ]
  },
  {
   "cell_type": "code",
   "execution_count": 6,
   "metadata": {},
   "outputs": [],
   "source": [
    "# Example run with short training\n",
    "test_model.config[\"epochs\"] = 20\n",
    "test_model.config[\"save-snapshot\"] = False\n",
    "test_model.config[\"steps\"] = 5\n",
    "test_model.config[\"batch_size\"] = 1\n",
    "test_model.config['max_queue_size'] = 5\n",
    "test_model.config['image-min-side'] = 400\n",
    "test_model.config['save-snapshot'] = True\n",
    "test_model.config['save_path'] = \"../../data/snapshots/\" + site_name \n",
    "test_model.config['snapshot_path'] = \"../../data/snapshots/\" + site_name\n",
    "\n",
    "\n",
    "import os\n",
    "newpath = \"../../data/snapshots/\" + site_name \n",
    "if not os.path.exists(newpath):\n",
    "    os.makedirs(newpath)"
   ]
  },
  {
   "cell_type": "code",
   "execution_count": 7,
   "metadata": {},
   "outputs": [
    {
     "output_type": "execute_result",
     "data": {
      "text/plain": "{'batch_size': 4,\n 'weights': '/home/daffolap-830/anaconda3/envs/deepforest/lib/python3.6/site-packages/deepforest/data/NEON.h5',\n 'backbone': 'resnet50',\n 'image-min-side': 400,\n 'multi-gpu': 1,\n 'epochs': 20,\n 'validation_annotations': 'None',\n 'freeze_layers': 0,\n 'freeze_resnet': False,\n 'score_threshold': 0.05,\n 'multiprocessing': False,\n 'workers': 1,\n 'max_queue_size': 5,\n 'random_transform': False,\n 'save-snapshot': True,\n 'save_path': '../../data/snapshots/NAIP2018_Hand_Nubian_square_Robin',\n 'snapshot_path': '../../data/snapshots/NAIP2018_Hand_Nubian_square_Robin',\n 'steps': 5}"
     },
     "metadata": {},
     "execution_count": 7
    }
   ],
   "source": [
    "test_model.config"
   ]
  },
  {
   "cell_type": "code",
   "execution_count": 14,
   "metadata": {},
   "outputs": [
    {
     "output_type": "stream",
     "name": "stdout",
     "text": "../../data/training_data/NAIP2018_Hand_Nubian_square_Robin/training_data/*.csv\n"
    },
    {
     "output_type": "execute_result",
     "data": {
      "text/plain": "'../../data/training_data/NAIP2018_Hand_Nubian_square_Robin/training_data/NAIP2018_Hand_Nubian_square_Robin_annotations.csv'"
     },
     "metadata": {},
     "execution_count": 14
    }
   ],
   "source": [
    "import glob\n",
    "#Path to sample file\n",
    "annotations_file_path = '../../data/training_data/' + site_name + '/training_data/*.csv'\n",
    "# annotations_file_path = '../../data/training_data/' + site_name + '/*.csv'\n",
    "print(annotations_file_path)\n",
    "annotations_file = glob.glob(annotations_file_path)[1]\n",
    "# annotations_file = glob.glob(annotations_file_path)[0]\n",
    "annotations_file"
   ]
  },
  {
   "cell_type": "code",
   "execution_count": 15,
   "metadata": {
    "scrolled": false,
    "tags": [
     "outputPrepend",
     "outputPrepend",
     "outputPrepend",
     "outputPrepend",
     "outputPrepend",
     "outputPrepend",
     "outputPrepend",
     "outputPrepend",
     "outputPrepend",
     "outputPrepend",
     "outputPrepend",
     "outputPrepend",
     "outputPrepend",
     "outputPrepend",
     "outputPrepend",
     "outputPrepend",
     "outputPrepend",
     "outputPrepend",
     "outputPrepend",
     "outputPrepend",
     "outputPrepend",
     "outputPrepend",
     "outputPrepend",
     "outputPrepend",
     "outputPrepend",
     "outputPrepend",
     "outputPrepend",
     "outputPrepend",
     "outputPrepend",
     "outputPrepend",
     "outputPrepend",
     "outputPrepend",
     "outputPrepend",
     "outputPrepend",
     "outputPrepend",
     "outputPrepend",
     "outputPrepend",
     "outputPrepend",
     "outputPrepend",
     "outputPrepend",
     "outputPrepend",
     "outputPrepend",
     "outputPrepend",
     "outputPrepend",
     "outputPrepend",
     "outputPrepend",
     "outputPrepend",
     "outputPrepend",
     "outputPrepend",
     "outputPrepend",
     "outputPrepend",
     "outputPrepend",
     "outputPrepend",
     "outputPrepend",
     "outputPrepend",
     "outputPrepend",
     "outputPrepend",
     "outputPrepend",
     "outputPrepend",
     "outputPrepend",
     "outputPrepend",
     "outputPrepend",
     "outputPrepend",
     "outputPrepend",
     "outputPrepend",
     "outputPrepend",
     "outputPrepend",
     "outputPrepend",
     "outputPrepend",
     "outputPrepend",
     "outputPrepend",
     "outputPrepend",
     "outputPrepend",
     "outputPrepend",
     "outputPrepend",
     "outputPrepend",
     "outputPrepend",
     "outputPrepend",
     "outputPrepend"
    ]
   },
   "outputs": [
    {
     "output_type": "stream",
     "name": "stdout",
     "text": "lu[0][0]                 \n__________________________________________________________________________________________________\nbn4f_branch2a (BatchNormalizati (None, None, None, 2 1024        res4f_branch2a[0][0]             \n__________________________________________________________________________________________________\nres4f_branch2a_relu (Activation (None, None, None, 2 0           bn4f_branch2a[0][0]              \n__________________________________________________________________________________________________\npadding4f_branch2b (ZeroPadding (None, None, None, 2 0           res4f_branch2a_relu[0][0]        \n__________________________________________________________________________________________________\nres4f_branch2b (Conv2D)         (None, None, None, 2 589824      padding4f_branch2b[0][0]         \n__________________________________________________________________________________________________\nbn4f_branch2b (BatchNormalizati (None, None, None, 2 1024        res4f_branch2b[0][0]             \n__________________________________________________________________________________________________\nres4f_branch2b_relu (Activation (None, None, None, 2 0           bn4f_branch2b[0][0]              \n__________________________________________________________________________________________________\nres4f_branch2c (Conv2D)         (None, None, None, 1 262144      res4f_branch2b_relu[0][0]        \n__________________________________________________________________________________________________\nbn4f_branch2c (BatchNormalizati (None, None, None, 1 4096        res4f_branch2c[0][0]             \n__________________________________________________________________________________________________\nres4f (Add)                     (None, None, None, 1 0           bn4f_branch2c[0][0]              \n                                                                 res4e_relu[0][0]                 \n__________________________________________________________________________________________________\nres4f_relu (Activation)         (None, None, None, 1 0           res4f[0][0]                      \n__________________________________________________________________________________________________\nres5a_branch2a (Conv2D)         (None, None, None, 5 524288      res4f_relu[0][0]                 \n__________________________________________________________________________________________________\nbn5a_branch2a (BatchNormalizati (None, None, None, 5 2048        res5a_branch2a[0][0]             \n__________________________________________________________________________________________________\nres5a_branch2a_relu (Activation (None, None, None, 5 0           bn5a_branch2a[0][0]              \n__________________________________________________________________________________________________\npadding5a_branch2b (ZeroPadding (None, None, None, 5 0           res5a_branch2a_relu[0][0]        \n__________________________________________________________________________________________________\nres5a_branch2b (Conv2D)         (None, None, None, 5 2359296     padding5a_branch2b[0][0]         \n__________________________________________________________________________________________________\nbn5a_branch2b (BatchNormalizati (None, None, None, 5 2048        res5a_branch2b[0][0]             \n__________________________________________________________________________________________________\nres5a_branch2b_relu (Activation (None, None, None, 5 0           bn5a_branch2b[0][0]              \n__________________________________________________________________________________________________\nres5a_branch2c (Conv2D)         (None, None, None, 2 1048576     res5a_branch2b_relu[0][0]        \n__________________________________________________________________________________________________\nres5a_branch1 (Conv2D)          (None, None, None, 2 2097152     res4f_relu[0][0]                 \n__________________________________________________________________________________________________\nbn5a_branch2c (BatchNormalizati (None, None, None, 2 8192        res5a_branch2c[0][0]             \n__________________________________________________________________________________________________\nbn5a_branch1 (BatchNormalizatio (None, None, None, 2 8192        res5a_branch1[0][0]              \n__________________________________________________________________________________________________\nres5a (Add)                     (None, None, None, 2 0           bn5a_branch2c[0][0]              \n                                                                 bn5a_branch1[0][0]               \n__________________________________________________________________________________________________\nres5a_relu (Activation)         (None, None, None, 2 0           res5a[0][0]                      \n__________________________________________________________________________________________________\nres5b_branch2a (Conv2D)         (None, None, None, 5 1048576     res5a_relu[0][0]                 \n__________________________________________________________________________________________________\nbn5b_branch2a (BatchNormalizati (None, None, None, 5 2048        res5b_branch2a[0][0]             \n__________________________________________________________________________________________________\nres5b_branch2a_relu (Activation (None, None, None, 5 0           bn5b_branch2a[0][0]              \n__________________________________________________________________________________________________\npadding5b_branch2b (ZeroPadding (None, None, None, 5 0           res5b_branch2a_relu[0][0]        \n__________________________________________________________________________________________________\nres5b_branch2b (Conv2D)         (None, None, None, 5 2359296     padding5b_branch2b[0][0]         \n__________________________________________________________________________________________________\nbn5b_branch2b (BatchNormalizati (None, None, None, 5 2048        res5b_branch2b[0][0]             \n__________________________________________________________________________________________________\nres5b_branch2b_relu (Activation (None, None, None, 5 0           bn5b_branch2b[0][0]              \n__________________________________________________________________________________________________\nres5b_branch2c (Conv2D)         (None, None, None, 2 1048576     res5b_branch2b_relu[0][0]        \n__________________________________________________________________________________________________\nbn5b_branch2c (BatchNormalizati (None, None, None, 2 8192        res5b_branch2c[0][0]             \n__________________________________________________________________________________________________\nres5b (Add)                     (None, None, None, 2 0           bn5b_branch2c[0][0]              \n                                                                 res5a_relu[0][0]                 \n__________________________________________________________________________________________________\nres5b_relu (Activation)         (None, None, None, 2 0           res5b[0][0]                      \n__________________________________________________________________________________________________\nres5c_branch2a (Conv2D)         (None, None, None, 5 1048576     res5b_relu[0][0]                 \n__________________________________________________________________________________________________\nbn5c_branch2a (BatchNormalizati (None, None, None, 5 2048        res5c_branch2a[0][0]             \n__________________________________________________________________________________________________\nres5c_branch2a_relu (Activation (None, None, None, 5 0           bn5c_branch2a[0][0]              \n__________________________________________________________________________________________________\npadding5c_branch2b (ZeroPadding (None, None, None, 5 0           res5c_branch2a_relu[0][0]        \n__________________________________________________________________________________________________\nres5c_branch2b (Conv2D)         (None, None, None, 5 2359296     padding5c_branch2b[0][0]         \n__________________________________________________________________________________________________\nbn5c_branch2b (BatchNormalizati (None, None, None, 5 2048        res5c_branch2b[0][0]             \n__________________________________________________________________________________________________\nres5c_branch2b_relu (Activation (None, None, None, 5 0           bn5c_branch2b[0][0]              \n__________________________________________________________________________________________________\nres5c_branch2c (Conv2D)         (None, None, None, 2 1048576     res5c_branch2b_relu[0][0]        \n__________________________________________________________________________________________________\nbn5c_branch2c (BatchNormalizati (None, None, None, 2 8192        res5c_branch2c[0][0]             \n__________________________________________________________________________________________________\nres5c (Add)                     (None, None, None, 2 0           bn5c_branch2c[0][0]              \n                                                                 res5b_relu[0][0]                 \n__________________________________________________________________________________________________\nres5c_relu (Activation)         (None, None, None, 2 0           res5c[0][0]                      \n__________________________________________________________________________________________________\nC5_reduced (Conv2D)             (None, None, None, 2 524544      res5c_relu[0][0]                 \n__________________________________________________________________________________________________\nP5_upsampled (UpsampleLike)     (None, None, None, 2 0           C5_reduced[0][0]                 \n                                                                 res4f_relu[0][0]                 \n__________________________________________________________________________________________________\nC4_reduced (Conv2D)             (None, None, None, 2 262400      res4f_relu[0][0]                 \n__________________________________________________________________________________________________\nP4_merged (Add)                 (None, None, None, 2 0           P5_upsampled[0][0]               \n                                                                 C4_reduced[0][0]                 \n__________________________________________________________________________________________________\nP4_upsampled (UpsampleLike)     (None, None, None, 2 0           P4_merged[0][0]                  \n                                                                 res3d_relu[0][0]                 \n__________________________________________________________________________________________________\nC3_reduced (Conv2D)             (None, None, None, 2 131328      res3d_relu[0][0]                 \n__________________________________________________________________________________________________\nP6 (Conv2D)                     (None, None, None, 2 4718848     res5c_relu[0][0]                 \n__________________________________________________________________________________________________\nP3_merged (Add)                 (None, None, None, 2 0           P4_upsampled[0][0]               \n                                                                 C3_reduced[0][0]                 \n__________________________________________________________________________________________________\nC6_relu (Activation)            (None, None, None, 2 0           P6[0][0]                         \n__________________________________________________________________________________________________\nP3 (Conv2D)                     (None, None, None, 2 590080      P3_merged[0][0]                  \n__________________________________________________________________________________________________\nP4 (Conv2D)                     (None, None, None, 2 590080      P4_merged[0][0]                  \n__________________________________________________________________________________________________\nP5 (Conv2D)                     (None, None, None, 2 590080      C5_reduced[0][0]                 \n__________________________________________________________________________________________________\nP7 (Conv2D)                     (None, None, None, 2 590080      C6_relu[0][0]                    \n__________________________________________________________________________________________________\nregression_submodel (Model)     (None, None, 4)      2443300     P3[0][0]                         \n                                                                 P4[0][0]                         \n                                                                 P5[0][0]                         \n                                                                 P6[0][0]                         \n                                                                 P7[0][0]                         \n__________________________________________________________________________________________________\nclassification_submodel (Model) (None, None, 1)      2381065     P3[0][0]                         \n                                                                 P4[0][0]                         \n                                                                 P5[0][0]                         \n                                                                 P6[0][0]                         \n                                                                 P7[0][0]                         \n__________________________________________________________________________________________________\nregression (Concatenate)        (None, None, 4)      0           regression_submodel[1][0]        \n                                                                 regression_submodel[2][0]        \n                                                                 regression_submodel[3][0]        \n                                                                 regression_submodel[4][0]        \n                                                                 regression_submodel[5][0]        \n__________________________________________________________________________________________________\nclassification (Concatenate)    (None, None, 1)      0           classification_submodel[1][0]    \n                                                                 classification_submodel[2][0]    \n                                                                 classification_submodel[3][0]    \n                                                                 classification_submodel[4][0]    \n                                                                 classification_submodel[5][0]    \n==================================================================================================\nTotal params: 36,382,957\nTrainable params: 36,276,717\nNon-trainable params: 106,240\n__________________________________________________________________________________________________\nNone\nEpoch 1/20\n10/10 [==============================] - 65s 6s/step - loss: 2.9714 - regression_loss: 2.3148 - classification_loss: 0.6566\n\nEpoch 00001: saving model to ../../data/snapshots/NAIP2018_Hand_Nubian_square_Robin/resnet50_csv_01.h5\nEpoch 2/20\n10/10 [==============================] - 60s 6s/step - loss: 2.6380 - regression_loss: 2.1449 - classification_loss: 0.4931\n\nEpoch 00002: saving model to ../../data/snapshots/NAIP2018_Hand_Nubian_square_Robin/resnet50_csv_02.h5\nEpoch 3/20\n10/10 [==============================] - 62s 6s/step - loss: 2.6111 - regression_loss: 2.1331 - classification_loss: 0.4780\n\nEpoch 00003: saving model to ../../data/snapshots/NAIP2018_Hand_Nubian_square_Robin/resnet50_csv_03.h5\nEpoch 4/20\n10/10 [==============================] - 63s 6s/step - loss: 2.6017 - regression_loss: 2.1263 - classification_loss: 0.4755\n\nEpoch 00004: saving model to ../../data/snapshots/NAIP2018_Hand_Nubian_square_Robin/resnet50_csv_04.h5\nEpoch 5/20\n10/10 [==============================] - 60s 6s/step - loss: 2.5846 - regression_loss: 2.1148 - classification_loss: 0.4698\n\nEpoch 00005: saving model to ../../data/snapshots/NAIP2018_Hand_Nubian_square_Robin/resnet50_csv_05.h5\nEpoch 6/20\n10/10 [==============================] - 60s 6s/step - loss: 2.5841 - regression_loss: 2.1157 - classification_loss: 0.4684\n\nEpoch 00006: saving model to ../../data/snapshots/NAIP2018_Hand_Nubian_square_Robin/resnet50_csv_06.h5\nEpoch 7/20\n10/10 [==============================] - 60s 6s/step - loss: 2.5793 - regression_loss: 2.1065 - classification_loss: 0.4728\n\nEpoch 00007: saving model to ../../data/snapshots/NAIP2018_Hand_Nubian_square_Robin/resnet50_csv_07.h5\nEpoch 8/20\n10/10 [==============================] - 62s 6s/step - loss: 2.6065 - regression_loss: 2.1127 - classification_loss: 0.4939\n\nEpoch 00008: saving model to ../../data/snapshots/NAIP2018_Hand_Nubian_square_Robin/resnet50_csv_08.h5\nEpoch 9/20\n10/10 [==============================] - 55s 6s/step - loss: 2.5805 - regression_loss: 2.1033 - classification_loss: 0.4772\n\nEpoch 00009: saving model to ../../data/snapshots/NAIP2018_Hand_Nubian_square_Robin/resnet50_csv_09.h5\n\nEpoch 00009: ReduceLROnPlateau reducing learning rate to 9.999999747378752e-07.\nEpoch 10/20\n10/10 [==============================] - 57s 6s/step - loss: 2.5709 - regression_loss: 2.1059 - classification_loss: 0.4650\n\nEpoch 00010: saving model to ../../data/snapshots/NAIP2018_Hand_Nubian_square_Robin/resnet50_csv_10.h5\nEpoch 11/20\n10/10 [==============================] - 53s 5s/step - loss: 2.5667 - regression_loss: 2.1003 - classification_loss: 0.4664\n\nEpoch 00011: saving model to ../../data/snapshots/NAIP2018_Hand_Nubian_square_Robin/resnet50_csv_11.h5\nEpoch 12/20\n10/10 [==============================] - 51s 5s/step - loss: 2.5644 - regression_loss: 2.0997 - classification_loss: 0.4647\n\nEpoch 00012: saving model to ../../data/snapshots/NAIP2018_Hand_Nubian_square_Robin/resnet50_csv_12.h5\nEpoch 13/20\n10/10 [==============================] - 53s 5s/step - loss: 2.5592 - regression_loss: 2.0965 - classification_loss: 0.4627\n\nEpoch 00013: saving model to ../../data/snapshots/NAIP2018_Hand_Nubian_square_Robin/resnet50_csv_13.h5\nEpoch 14/20\n10/10 [==============================] - 54s 5s/step - loss: 2.5622 - regression_loss: 2.0998 - classification_loss: 0.4624\n\nEpoch 00014: saving model to ../../data/snapshots/NAIP2018_Hand_Nubian_square_Robin/resnet50_csv_14.h5\nEpoch 15/20\n10/10 [==============================] - 55s 5s/step - loss: 2.5606 - regression_loss: 2.0987 - classification_loss: 0.4618\n\nEpoch 00015: saving model to ../../data/snapshots/NAIP2018_Hand_Nubian_square_Robin/resnet50_csv_15.h5\n\nEpoch 00015: ReduceLROnPlateau reducing learning rate to 9.999999974752428e-08.\nEpoch 16/20\n10/10 [==============================] - 56s 6s/step - loss: 2.5591 - regression_loss: 2.0974 - classification_loss: 0.4617\n\nEpoch 00016: saving model to ../../data/snapshots/NAIP2018_Hand_Nubian_square_Robin/resnet50_csv_16.h5\nEpoch 17/20\n10/10 [==============================] - 57s 6s/step - loss: 2.5570 - regression_loss: 2.0960 - classification_loss: 0.4610\n\nEpoch 00017: saving model to ../../data/snapshots/NAIP2018_Hand_Nubian_square_Robin/resnet50_csv_17.h5\nEpoch 18/20\n10/10 [==============================] - 57s 6s/step - loss: 2.5561 - regression_loss: 2.0946 - classification_loss: 0.4614\n\nEpoch 00018: saving model to ../../data/snapshots/NAIP2018_Hand_Nubian_square_Robin/resnet50_csv_18.h5\nEpoch 19/20\n10/10 [==============================] - 57s 6s/step - loss: 2.5575 - regression_loss: 2.0960 - classification_loss: 0.4615\n\nEpoch 00019: saving model to ../../data/snapshots/NAIP2018_Hand_Nubian_square_Robin/resnet50_csv_19.h5\nEpoch 20/20\n10/10 [==============================] - 58s 6s/step - loss: 2.5590 - regression_loss: 2.0975 - classification_loss: 0.4615\n\nEpoch 00020: saving model to ../../data/snapshots/NAIP2018_Hand_Nubian_square_Robin/resnet50_csv_20.h5\n\nEpoch 00020: ReduceLROnPlateau reducing learning rate to 1.0000000116860975e-08.\n"
    }
   ],
   "source": [
    "test_model.train(annotations = annotations_file, input_type = \"fit_generator\")\n",
    " \n",
    "#save trained model\n",
    "a = datetime.datetime.now().strftime(\"%Y-%m-%d_%H:%M:%S\")\n",
    ""
   ]
  },
  {
   "cell_type": "code",
   "execution_count": 10,
   "metadata": {},
   "outputs": [
    {
     "output_type": "error",
     "ename": "NameError",
     "evalue": "name 'a' is not defined",
     "traceback": [
      "\u001b[0;31m---------------------------------------------------------------------------\u001b[0m",
      "\u001b[0;31mNameError\u001b[0m                                 Traceback (most recent call last)",
      "\u001b[0;32m<ipython-input-10-1948de389f85>\u001b[0m in \u001b[0;36m<module>\u001b[0;34m\u001b[0m\n\u001b[0;32m----> 1\u001b[0;31m \u001b[0mpath\u001b[0m \u001b[0;34m=\u001b[0m \u001b[0;34m'../../data/snapshots/'\u001b[0m \u001b[0;34m+\u001b[0m \u001b[0msite_name\u001b[0m \u001b[0;34m+\u001b[0m \u001b[0;34m\"_\"\u001b[0m \u001b[0;34m+\u001b[0m \u001b[0ma\u001b[0m \u001b[0;34m+\u001b[0m \u001b[0;34m'.h5'\u001b[0m\u001b[0;34m\u001b[0m\u001b[0;34m\u001b[0m\u001b[0m\n\u001b[0m\u001b[1;32m      2\u001b[0m \u001b[0mprint\u001b[0m\u001b[0;34m(\u001b[0m\u001b[0mpath\u001b[0m\u001b[0;34m)\u001b[0m\u001b[0;34m\u001b[0m\u001b[0;34m\u001b[0m\u001b[0m\n\u001b[1;32m      3\u001b[0m \u001b[0mtest_model\u001b[0m\u001b[0;34m.\u001b[0m\u001b[0mmodel\u001b[0m\u001b[0;34m.\u001b[0m\u001b[0msave\u001b[0m\u001b[0;34m(\u001b[0m\u001b[0;34m'../../data/snapshots/Amsterdam_training/resnet50_csv_20.h5'\u001b[0m\u001b[0;34m)\u001b[0m\u001b[0;34m\u001b[0m\u001b[0;34m\u001b[0m\u001b[0m\n",
      "\u001b[0;31mNameError\u001b[0m: name 'a' is not defined"
     ]
    }
   ],
   "source": [
    "path = '../../data/snapshots/' + site_name + \"_\" + a + '.h5'\n",
    "print(path)\n",
    "test_model.model.save('../../data/snapshots/Amsterdam_training/resnet50_csv_20.h5')"
   ]
  },
  {
   "cell_type": "code",
   "execution_count": null,
   "metadata": {},
   "outputs": [],
   "source": []
  },
  {
   "cell_type": "code",
   "execution_count": 16,
   "metadata": {},
   "outputs": [
    {
     "output_type": "stream",
     "name": "stderr",
     "text": "Running network: N/A% (0 of 38) |        | Elapsed Time: 0:00:00 ETA:  --:--:--There are 1 unique labels: ['tree'] \nRunning network: 100% (38 of 38) |#######| Elapsed Time: 0:00:18 Time:  0:00:18\nParsing annotations: 100% (38 of 38) |###| Elapsed Time: 0:00:00 Time:  0:00:00\n4114 instances of class tree with average precision: 0.0015\nmAP using the weighted average of precisions among classes: 0.0015\nmAP: 0.0015\nMean Average Precision is: 0.001\n"
    }
   ],
   "source": [
    "mAP = test_model.evaluate_generator(annotations=annotations_file)\n",
    "print(\"Mean Average Precision is: {:.3f}\".format(mAP))"
   ]
  },
  {
   "cell_type": "code",
   "execution_count": 12,
   "metadata": {},
   "outputs": [
    {
     "output_type": "stream",
     "name": "stdout",
     "text": "None\n"
    }
   ],
   "source": [
    "# x = os.listdir('../../data/Amsterdam_chunks/')\n",
    "# with open('data.txt', 'w+') as txt_file:\n",
    "#     for name in x:\n",
    "#         print(name, file=txt_file)\n",
    "import cv2\n",
    "\n",
    "path = '../../data/training_data/Amsterdam_training/009_Amsterdam_test.tif'\n",
    "path = r'/home/daffolap-830/Desktop/green_city_watch_project/TreeTect/data/training_data/Amsterdam_training/009_Amsterdam_test.tif'\n",
    "\n",
    "img = cv2.imread(path, cv2.IMREAD_UNCHANGED)\n",
    "print(img)\n",
    "\n",
    ""
   ]
  }
 ],
 "metadata": {
  "kernelspec": {
   "display_name": "Python 3.6.9 64-bit ('deepforest': conda)",
   "language": "python",
   "name": "python36964bitdeepforestconda1c51644d03c64f9b8304ca10a02ead68"
  },
  "language_info": {
   "codemirror_mode": {
    "name": "ipython",
    "version": 3
   },
   "file_extension": ".py",
   "mimetype": "text/x-python",
   "name": "python",
   "nbconvert_exporter": "python",
   "pygments_lexer": "ipython3",
   "version": "3.6.9-final"
  }
 },
 "nbformat": 4,
 "nbformat_minor": 4
}